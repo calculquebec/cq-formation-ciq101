{
 "cells": [
  {
   "cell_type": "markdown",
   "metadata": {},
   "source": [
    "# SOLUTIONNAIRE"
   ]
  },
  {
   "cell_type": "code",
   "execution_count": null,
   "metadata": {},
   "outputs": [],
   "source": [
    "import numpy as np"
   ]
  },
  {
   "cell_type": "markdown",
   "metadata": {},
   "source": [
    "## NOTEBOOK 1 : Construire un simulateur à un qubit"
   ]
  },
  {
   "cell_type": "code",
   "execution_count": null,
   "metadata": {},
   "outputs": [],
   "source": [
    "#EXERCICE 1\n",
    "def qubit_state(alpha, beta):\n",
    "    \"\"\"\n",
    "    Crée un état de qubit |ψ⟩ selon les coefficients alpha et beta.\n",
    "    \n",
    "    Args:\n",
    "        alpha (complex): Amplitude de |0⟩\n",
    "        beta (complex): Amplitude de |1⟩\n",
    "        \n",
    "    Returns:\n",
    "       numpy.ndarray: Le vecteur d’état |ψ⟩\n",
    "    \"\"\"\n",
    "    # Définir les états de base |0⟩ et |1⟩\n",
    "    ket_0 = np.array([1, 0])\n",
    "    ket_1 = np.array([0, 1])\n",
    "    \n",
    "    # Construire l'état |ψ⟩\n",
    "    psi = alpha * ket_0 + beta * ket_1\n",
    "\n",
    "    # Retourner l'état \n",
    "    return psi"
   ]
  },
  {
   "cell_type": "code",
   "execution_count": null,
   "metadata": {},
   "outputs": [],
   "source": [
    "#Exercice 2\n",
    "def is_normalized(state):  \n",
    "    \"\"\"Vérifie si un état est normalisé .  \n",
    "\n",
    "    Args:  \n",
    "        state (np.array): État du qubit (vecteur de dimension 2)\n",
    "\n",
    "    Returns:  \n",
    "        Bool: True si le vecteur est normalisé, faux autrement.  \n",
    "    \"\"\"  \n",
    "    norm = np.abs(state[0])**2 + np.abs(state[1])**2  # Complétez cette ligne  \n",
    "    return np.isclose(norm, 1)  "
   ]
  },
  {
   "cell_type": "code",
   "execution_count": null,
   "metadata": {},
   "outputs": [],
   "source": [
    "#Exercice 3\n",
    "def apply_H(state, H):\n",
    "    \"\"\"\n",
    "    Applique une porte quantique (matrice unitaire) à un état de qubit donné.\n",
    "    \n",
    "    Args:\n",
    "        state (np.array): État du qubit (vecteur de dimension 2)\n",
    "        H (np.array): Matrice unitaire 2x2 représentant la porte Hadamard\n",
    "        \n",
    "    Returns:\n",
    "        np.array: Nouvel état du qubit après l'application de la matrice H \n",
    "    \"\"\"\n",
    "    # Appliquer la porte quantique à l'état du qubit et retourner le nouvel état\n",
    "    return np.dot(H, state)"
   ]
  },
  {
   "cell_type": "code",
   "execution_count": null,
   "metadata": {},
   "outputs": [],
   "source": [
    "#EXERCICE 4\n",
    "def measurement_probabilities(state):  \n",
    "    \"\"\"Calcule les probabilités de mesurer |0⟩ et |1⟩ à partir d’un état quantique donné.  \n",
    "\n",
    "    Args:  \n",
    "        state (np.array): Vecteur représentant l’état du qubit.  \n",
    "\n",
    "    Returns:  \n",
    "        tuple: Probabilités (P0, P1) correspondant aux mesures |0⟩ et |1⟩.  \n",
    "    \"\"\"  \n",
    "    P0 = np.conj(new_ket[0])*(new_ket[0])\n",
    "    P1 = np.conj(new_ket[1])*(new_ket[1]) \n",
    "    return P0, P1  "
   ]
  },
  {
   "cell_type": "code",
   "execution_count": null,
   "metadata": {},
   "outputs": [],
   "source": [
    "#EXERCICE 5\n",
    "def simulate_measurements(probs):  \n",
    "    \"\"\"Simule des mesures quantiques en échantillonnant la distribution de probabilité d’un état quantique.  \n",
    "\n",
    "    Args:  \n",
    "        probs (tuple): Probabilités de mesurer |0⟩ et |1⟩.  \n",
    "        num_samples (int): Nombre de mesures à simuler.  \n",
    "\n",
    "    Returns:  \n",
    "        dict: Nombre d’occurrences de chaque résultat (0 ou 1).  \n",
    "    \"\"\"  \n",
    "    results = np.random.choice([0, 1], p = probs, size = 1000)# Complétez cette ligne  \n",
    "    \n",
    "    return dict(zip(*np.unique(results, return_counts=True)))  "
   ]
  },
  {
   "cell_type": "markdown",
   "metadata": {},
   "source": [
    "## NOTEBOOK 2 : Qubits multiples"
   ]
  },
  {
   "cell_type": "code",
   "execution_count": 18,
   "metadata": {},
   "outputs": [],
   "source": [
    "# EXERCICE 1\n",
    "def create_register(n):\n",
    "    \"\"\"\n",
    "    Crée un registre de n qubits initialisés à |0>.\n",
    "\n",
    "    Args:\n",
    "        n (int): nombre de qubits (n >= 1) \n",
    "\n",
    "    Returns:\n",
    "        np.array: vecteur colonne représentant l'état initial du registre\n",
    "    \"\"\"\n",
    "    if n < 1:\n",
    "        raise ValueError(\"Le nombre de qubits doit être au moins 1.\")\n",
    "        \n",
    "    # État de base d'un qubit |0> \n",
    "    zero = np.array([1, 0])\n",
    "\n",
    "    # Complétez le registre en utilisant np.kron pour n qubits\n",
    "    reg = zero\n",
    "    for _ in range(1, n):\n",
    "        reg = np.kron(zero, reg) # votre code ici  \n",
    "    \n",
    "    return reg\n"
   ]
  },
  {
   "cell_type": "code",
   "execution_count": 1,
   "metadata": {},
   "outputs": [],
   "source": [
    "# EXERCICE 2\n",
    "def apply_gate_first_qubit(n):\n",
    "    \"\"\"\n",
    "    Crée la matrice unitaire correspondant à une porte Hadamard appliquée\n",
    "    sur le premier qubit d'un registre de n qubits.\n",
    "\n",
    "    Args:\n",
    "        n (int): Nombre de qubits dans le registre (n > = 1).\n",
    "\n",
    "    Returns:\n",
    "        np.array: Matrice 2^n x 2^n représentant l'opération.\n",
    "    \"\"\"\n",
    "    if n < 1:\n",
    "        raise ValueError(\"Le nombre de qubits doit être au moins 1.\")\n",
    "        \n",
    "    # matrice de Hadamard\n",
    "    H = (1/np.sqrt(2)) * np.array([[1, 1],\n",
    "                                   [1, -1]])\n",
    "    I = np.eye(2) #matrice Identité 2 x2 \n",
    "\n",
    "    # Complétez la ligne suivante pour construire H ⊗ I ⊗ ... ⊗ I\n",
    "\n",
    "    U = H\n",
    "    for _ in range(1, n):\n",
    "        U = np.kron(U, I) # votre code ici \n",
    "\n",
    "    return U\n"
   ]
  },
  {
   "cell_type": "code",
   "execution_count": 2,
   "metadata": {},
   "outputs": [],
   "source": [
    "# EXERCICE 3\n",
    "def even_superposition(n):\n",
    "    \"\"\"\n",
    "    Construit une superposition égale sur n qubits en appliquant\n",
    "    la porte de Hadamard H à chaque qubit.\n",
    "\n",
    "    L’état obtenu est :\n",
    "        |ψ> = (H ⊗ H ⊗ ... ⊗ H) |00...0>\n",
    "             = 1/√(2^n) ∑_{x=0}^{2^n - 1} |x>\n",
    "\n",
    "    Args:\n",
    "        n (int): Le nombre de qubits (doit être >= 1).\n",
    "\n",
    "    Returns:\n",
    "        np.array: Le vecteur d’état représentant la superposition égale\n",
    "                  de tous les états de base.\n",
    "    Raises:\n",
    "        ValueError: Si n < 1.\n",
    "    \"\"\"\n",
    "    if n < 1:\n",
    "        raise ValueError(\"Le nombre de qubits doit être >= 1.\")\n",
    "    \n",
    "    H = (1/np.sqrt(2)) * np.array([[1, 1],\n",
    "                                   [1, -1]])\n",
    "    # état initial |0>^{⊗n}\n",
    "    state = np.zeros(2**n)\n",
    "    state[0] = 1\n",
    "    \n",
    "    # construire H⊗H⊗...⊗H\n",
    "    H_n = H\n",
    "    for _ in range(n - 1):\n",
    "        H_n = np.kron(H_n, H) # votre code ici \n",
    "    \n",
    "    # appliquer l'opérateur au vecteur initial\n",
    "    return np.dot(H_n, state)\n",
    "\n"
   ]
  },
  {
   "cell_type": "code",
   "execution_count": 28,
   "metadata": {},
   "outputs": [],
   "source": [
    "# EXERCICE 4\n",
    "def Bell_state():\n",
    "    \"\"\"\n",
    "    Construit l'état de Bell |Φ+> = (|00> + |11>) / √2\n",
    "    à partir de l'état initial |00> en appliquant\n",
    "    une porte Hadamard sur le premier qubit suivie d'une porte CNOT.\n",
    "\n",
    "    Returns:\n",
    "        np.array: Le vecteur d'état correspondant à l'état de Bell.\n",
    "    \"\"\"\n",
    "    n = 2  # 2 qubits\n",
    "    \n",
    "    # Définition de la porte de Hadamard\n",
    "    H = (1/np.sqrt(2)) * np.array([[1, 1],\n",
    "                                   [1, -1]])\n",
    "    \n",
    "    # 1. Initialiser l'état initial à |00>\n",
    "    state = np.zeros(2**n)\n",
    "    state[0] = 1\n",
    "    \n",
    "    #2. Créer la superposition : (H ⊗ I)|00> = (|00> + |10>) / √2\n",
    "    superposition = np.dot(np.kron(H, np.eye(2)), state)\n",
    "    print(superposition)\n",
    "\n",
    "    # Matrice CNOT\n",
    "    cnot = np.array([[1, 0, 0, 0],\n",
    "                     [0, 1, 0, 0],\n",
    "                     [0, 0, 0, 1],\n",
    "                     [0, 0, 1, 0]])\n",
    "    \n",
    "    #3. Appliquer la matrice CNOT à l'état en superposition\n",
    "    return np.dot(cnot, superposition)   #votre code ici\n"
   ]
  }
 ],
 "metadata": {
  "kernelspec": {
   "display_name": "Python 3 (ipykernel)",
   "language": "python",
   "name": "python3"
  },
  "language_info": {
   "codemirror_mode": {
    "name": "ipython",
    "version": 3
   },
   "file_extension": ".py",
   "mimetype": "text/x-python",
   "name": "python",
   "nbconvert_exporter": "python",
   "pygments_lexer": "ipython3",
   "version": "3.12.3"
  }
 },
 "nbformat": 4,
 "nbformat_minor": 4
}
